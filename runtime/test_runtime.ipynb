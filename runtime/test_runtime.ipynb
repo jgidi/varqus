{
 "cells": [
  {
   "cell_type": "code",
   "execution_count": 1,
   "metadata": {},
   "outputs": [],
   "source": [
    "from qiskit.providers.ibmq.runtime import UserMessenger\n",
    "from qiskit import Aer\n",
    "import matplotlib.pyplot as plt \n",
    "from qiskit import IBMQ\n",
    "from runtime_code import main\n",
    "IBMQ.load_account()\n",
    "provider = IBMQ.get_provider(hub='ibm-q-csic', group='internal', project='iff-csic')  "
   ]
  },
  {
   "cell_type": "markdown",
   "metadata": {},
   "source": [
    "## Data for the runtime program"
   ]
  },
  {
   "cell_type": "code",
   "execution_count": 2,
   "metadata": {},
   "outputs": [],
   "source": [
    "meta = {\n",
    "  \"name\": \"VQS_2spins\",\n",
    "  \"description\": \"Variational Quantum Simulation of two spins\",\n",
    "  \"max_execution_time\": 300000\n",
    "}\n",
    "\n",
    "meta[\"Input parameters\"] = [\n",
    "    {\"name\": \"shots\", \"description\": \"number of shots\", \"type\": \"int\", \"required\": True },\n",
    "    {\"name\": \"dt\", \"description\": \"time step\", \"type\": \"float\", \"required\": True}, \n",
    "    {\"name\": \"Nt\", \"description\": \"Number of steps\", \"type\": \"int\", \"required\": True},\n",
    "\n",
    "  ]\n",
    "\n",
    "meta['Returns'] = [\n",
    "    {\"name\": \"result\", \"description\": \"Final result in a dictionary.\", \"type\": \"dict\"}\n",
    "  ]\n",
    "\n",
    "meta[\"Interim results\"] = [\n",
    "    {\"name\": \"params\", \"description\": \"parameters\", \"type\": \"ndarray\"},\n",
    "  ]\n"
   ]
  },
  {
   "cell_type": "markdown",
   "metadata": {},
   "source": [
    "## First upload of the runtime program"
   ]
  },
  {
   "cell_type": "code",
   "execution_count": 3,
   "metadata": {},
   "outputs": [],
   "source": [
    "#provider.runtime.upload_program(data='runtime_code.py', metadata=meta)"
   ]
  },
  {
   "cell_type": "markdown",
   "metadata": {},
   "source": [
    "## Update of the runtime program"
   ]
  },
  {
   "cell_type": "code",
   "execution_count": 4,
   "metadata": {},
   "outputs": [],
   "source": [
    "program_id = 'vqs-2spins-rNp0Pr3lMN'\n",
    "provider.runtime.update_program(data='runtime_code.py', metadata=meta, program_id=program_id)"
   ]
  },
  {
   "cell_type": "code",
   "execution_count": 5,
   "metadata": {},
   "outputs": [
    {
     "name": "stdout",
     "output_type": "stream",
     "text": [
      "vqs-2spins-rNp0Pr3lMN:\n",
      "  Name: VQS_2spins\n",
      "  Description: Variational Quantum Simulation of two spins\n",
      "  Creation date: 2022-02-23T20:49:09.69089Z\n",
      "  Update date: 2022-02-25T20:26:26.775193Z\n",
      "  Max execution time: 300000\n",
      "  Input parameters:\n",
      "    none\n",
      "  Interim results:\n",
      "    none\n",
      "  Returns:\n",
      "    none\n"
     ]
    }
   ],
   "source": [
    "prog = provider.runtime.program(program_id)\n",
    "print(prog)"
   ]
  },
  {
   "cell_type": "markdown",
   "metadata": {},
   "source": [
    "## Setting the inputs"
   ]
  },
  {
   "cell_type": "code",
   "execution_count": 6,
   "metadata": {},
   "outputs": [],
   "source": [
    "inputs = { \"shots\" : 2**13,\n",
    "            \"dt\"   : 0.01,\n",
    "            \"Nt\"   : 100 }"
   ]
  },
  {
   "cell_type": "markdown",
   "metadata": {},
   "source": [
    "## Testing the runtime program localy"
   ]
  },
  {
   "cell_type": "code",
   "execution_count": 7,
   "metadata": {},
   "outputs": [],
   "source": [
    "#results = main( Aer.get_backend('aer_simulator'), UserMessenger, inputs[\"shots\"], inputs[\"dt\"], inputs[\"Nt\"] )\n",
    "#plt.plot( results['params'] )"
   ]
  },
  {
   "cell_type": "markdown",
   "metadata": {},
   "source": [
    "## Choosing backend"
   ]
  },
  {
   "cell_type": "code",
   "execution_count": 8,
   "metadata": {},
   "outputs": [],
   "source": [
    "#backend = Aer.get_backend('aer_simulator')\n",
    "#backend = provider.backend.ibmq_qasm_simulator\n",
    "#backend = provider.get_backend('ibmq_guadalupe')\n",
    "#backend = provider.get_backend('ibmq_quito')\n",
    "#backend = provider.get_backend('ibm_cairo')\n",
    "backend = provider.get_backend('ibmq_lima')\n",
    "options = {'backend_name': backend.name()}"
   ]
  },
  {
   "cell_type": "markdown",
   "metadata": {},
   "source": [
    "## Running the runtime program in the experimental backend"
   ]
  },
  {
   "cell_type": "code",
   "execution_count": 9,
   "metadata": {},
   "outputs": [],
   "source": [
    "#job = provider.runtime.run(program_id, options=options, inputs=inputs )\n",
    "#job.job_id()"
   ]
  },
  {
   "cell_type": "code",
   "execution_count": 10,
   "metadata": {},
   "outputs": [],
   "source": [
    "#ibmq_qasm_simulator 'c8b9sb1g1081sbjs82n0'\n",
    "#ibmq_guadalupe      'c8ba6d3ec8d9aqac8cfg'\n",
    "#ibmq_quito          'c8ba6jtd07hgb6ucushg'\n",
    "#ibm_cairo           'c8bajbbec8d9aqacal7g'\n",
    "#ibm_lima            'c8bbb4hg1081sbjsgedg'"
   ]
  },
  {
   "cell_type": "markdown",
   "metadata": {},
   "source": [
    "## Loading the experimental results"
   ]
  },
  {
   "cell_type": "code",
   "execution_count": 11,
   "metadata": {},
   "outputs": [],
   "source": [
    "job = provider.runtime.job('c8bbb4hg1081sbjsgedg')\n",
    "results = job.result()"
   ]
  },
  {
   "cell_type": "code",
   "execution_count": 14,
   "metadata": {},
   "outputs": [
    {
     "data": {
      "text/plain": [
       "{'params': array([[1.        , 1.        ],\n",
       "        [1.00673549, 0.98686665],\n",
       "        [1.01539764, 0.97717219],\n",
       "        [1.02067351, 0.96614001],\n",
       "        [1.02918811, 0.95492824],\n",
       "        [1.03957325, 0.94444392],\n",
       "        [1.04685903, 0.93339789],\n",
       "        [1.05151712, 0.92322271],\n",
       "        [1.0587638 , 0.91354923],\n",
       "        [1.06456614, 0.90496262],\n",
       "        [1.07078905, 0.89399387],\n",
       "        [1.07666966, 0.88503755],\n",
       "        [1.08360419, 0.8728844 ],\n",
       "        [1.08517201, 0.86390265],\n",
       "        [1.08808635, 0.8551125 ],\n",
       "        [1.09117329, 0.84661001],\n",
       "        [1.09675892, 0.83527144],\n",
       "        [1.10142157, 0.82513728],\n",
       "        [1.10673807, 0.81636988],\n",
       "        [1.109826  , 0.80776321],\n",
       "        [1.11523637, 0.7993389 ],\n",
       "        [1.11793948, 0.79096188],\n",
       "        [1.12232322, 0.78165166],\n",
       "        [1.1281866 , 0.77100263],\n",
       "        [1.13090633, 0.76028171],\n",
       "        [1.12976268, 0.74902904],\n",
       "        [1.13161252, 0.73892236],\n",
       "        [1.13587135, 0.72876764],\n",
       "        [1.14155642, 0.71938671],\n",
       "        [1.14255041, 0.70948491],\n",
       "        [1.14291188, 0.69889256],\n",
       "        [1.14179743, 0.68925777],\n",
       "        [1.14210465, 0.67811974],\n",
       "        [1.14368024, 0.66816105],\n",
       "        [1.14177955, 0.65739243],\n",
       "        [1.14501256, 0.6481405 ],\n",
       "        [1.14242894, 0.63972431],\n",
       "        [1.13923255, 0.63022357],\n",
       "        [1.13825263, 0.6221252 ],\n",
       "        [1.13815485, 0.61333054],\n",
       "        [1.13137437, 0.60332312],\n",
       "        [1.13329786, 0.59317516],\n",
       "        [1.13071764, 0.58305484],\n",
       "        [1.12836328, 0.57577126],\n",
       "        [1.12640253, 0.56582281],\n",
       "        [1.12667549, 0.55567537],\n",
       "        [1.12244113, 0.54623836],\n",
       "        [1.12075586, 0.53714238],\n",
       "        [1.11870448, 0.52854019],\n",
       "        [1.11605492, 0.51932121],\n",
       "        [1.11373389, 0.50958235],\n",
       "        [1.10952877, 0.49933451],\n",
       "        [1.10544147, 0.48890197],\n",
       "        [1.10068453, 0.48099776],\n",
       "        [1.09679905, 0.47179631],\n",
       "        [1.09898048, 0.46350765],\n",
       "        [1.09819939, 0.45442851],\n",
       "        [1.09351738, 0.44374023],\n",
       "        [1.08876338, 0.43437574],\n",
       "        [1.09020833, 0.42543386],\n",
       "        [1.08804858, 0.41644519],\n",
       "        [1.08517443, 0.40661714],\n",
       "        [1.0806697 , 0.3965959 ],\n",
       "        [1.07304534, 0.38777687],\n",
       "        [1.07120662, 0.37807488],\n",
       "        [1.06725588, 0.36821591],\n",
       "        [1.06243504, 0.35854952],\n",
       "        [1.05943985, 0.34817337],\n",
       "        [1.05210045, 0.33929901],\n",
       "        [1.04569074, 0.32947314],\n",
       "        [1.04150746, 0.31961315],\n",
       "        [1.03567446, 0.30959517],\n",
       "        [1.02790507, 0.30008583],\n",
       "        [1.02369913, 0.29111768],\n",
       "        [1.01931118, 0.2803358 ],\n",
       "        [1.01241811, 0.27091638],\n",
       "        [1.00630656, 0.26343314],\n",
       "        [0.99548728, 0.25125964],\n",
       "        [0.9921787 , 0.24175723],\n",
       "        [0.98474016, 0.23110374],\n",
       "        [0.97622908, 0.22119838],\n",
       "        [0.96715652, 0.21083666],\n",
       "        [0.96034978, 0.19981236],\n",
       "        [0.95198479, 0.19027685],\n",
       "        [0.94396058, 0.18070813],\n",
       "        [0.93395432, 0.17076652],\n",
       "        [0.92382821, 0.16086829],\n",
       "        [0.91570428, 0.15085757],\n",
       "        [0.91150157, 0.1390794 ],\n",
       "        [0.90315391, 0.1266582 ],\n",
       "        [0.89737636, 0.11775192],\n",
       "        [0.8886662 , 0.10785097],\n",
       "        [0.880376  , 0.09764106],\n",
       "        [0.87051461, 0.08642874],\n",
       "        [0.8629334 , 0.07505926],\n",
       "        [0.85535234, 0.06531651],\n",
       "        [0.84837918, 0.05534335],\n",
       "        [0.8356478 , 0.04444707],\n",
       "        [0.82657731, 0.03503011],\n",
       "        [0.82112172, 0.02426812]]),\n",
       " 'shots': 8192,\n",
       " 'dt': 0.01,\n",
       " 'Nt': 100,\n",
       " 'execution_time': 10830.423392534256,\n",
       " 'date': 'Wed Feb 23 22:30:47 2022'}"
      ]
     },
     "execution_count": 14,
     "metadata": {},
     "output_type": "execute_result"
    }
   ],
   "source": [
    "results"
   ]
  },
  {
   "cell_type": "code",
   "execution_count": 12,
   "metadata": {},
   "outputs": [
    {
     "data": {
      "text/plain": [
       "[<matplotlib.lines.Line2D at 0x1f33c0def10>,\n",
       " <matplotlib.lines.Line2D at 0x1f33c0def40>]"
      ]
     },
     "execution_count": 12,
     "metadata": {},
     "output_type": "execute_result"
    },
    {
     "data": {
      "image/png": "[encoded data removed]",
      "text/plain": [
       "<Figure size 432x288 with 1 Axes>"
      ]
     },
     "metadata": {
      "needs_background": "light"
     },
     "output_type": "display_data"
    }
   ],
   "source": [
    "plt.plot( results['params'] )"
   ]
  },
  {
   "cell_type": "code",
   "execution_count": null,
   "metadata": {},
   "outputs": [],
   "source": []
  }
 ],
 "metadata": {
  "interpreter": {
   "hash": "77226c1dc9bf5b6e8896463442f774bf79a046d9b0c1383232480e54be477d27"
  },
  "kernelspec": {
   "display_name": "Python 3.9.5 ('base')",
   "language": "python",
   "name": "python3"
  },
  "language_info": {
   "codemirror_mode": {
    "name": "ipython",
    "version": 3
   },
   "file_extension": ".py",
   "mimetype": "text/x-python",
   "name": "python",
   "nbconvert_exporter": "python",
   "pygments_lexer": "ipython3",
   "version": "3.9.5"
  },
  "orig_nbformat": 4
 },
 "nbformat": 4,
 "nbformat_minor": 2
}
