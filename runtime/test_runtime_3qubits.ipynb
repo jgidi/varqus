{
 "cells": [
  {
   "cell_type": "code",
   "execution_count": 1,
   "metadata": {},
   "outputs": [],
   "source": [
    "from qiskit.providers.ibmq.runtime import UserMessenger\n",
    "from qiskit import Aer\n",
    "import matplotlib.pyplot as plt \n",
    "from qiskit import IBMQ\n",
    "from runtime_code import main\n",
    "IBMQ.load_account()\n",
    "provider = IBMQ.get_provider(hub='ibm-q-csic', group='internal', project='iff-csic')  "
   ]
  },
  {
   "cell_type": "markdown",
   "metadata": {},
   "source": [
    "## Data for the runtime program"
   ]
  },
  {
   "cell_type": "code",
   "execution_count": 2,
   "metadata": {},
   "outputs": [],
   "source": [
    "meta = {\n",
    "  \"name\": \"VQS_3spins\",\n",
    "  \"description\": \"Variational Quantum Simulation of three spins\",\n",
    "  \"max_execution_time\": 300000\n",
    "}\n",
    "\n",
    "meta[\"Input parameters\"] = [\n",
    "    {\"name\": \"shots\", \"description\": \"number of shots\", \"type\": \"int\", \"required\": True },\n",
    "    {\"name\": \"dt\", \"description\": \"time step\", \"type\": \"float\", \"required\": True}, \n",
    "    {\"name\": \"Nt\", \"description\": \"Number of steps\", \"type\": \"int\", \"required\": True},\n",
    "\n",
    "  ]\n",
    "\n",
    "meta['Returns'] = [\n",
    "    {\"name\": \"result\", \"description\": \"Final result in a dictionary.\", \"type\": \"dict\"}\n",
    "  ]\n",
    "\n",
    "meta[\"Interim results\"] = [\n",
    "    {\"name\": \"params\", \"description\": \"parameters\", \"type\": \"ndarray\"},\n",
    "  ]\n"
   ]
  },
  {
   "cell_type": "markdown",
   "metadata": {},
   "source": [
    "## First upload of the runtime program"
   ]
  },
  {
   "cell_type": "code",
   "execution_count": 3,
   "metadata": {},
   "outputs": [
    {
     "data": {
      "text/plain": [
       "'vqs-3spins-N0DdlNvdB0'"
      ]
     },
     "execution_count": 3,
     "metadata": {},
     "output_type": "execute_result"
    }
   ],
   "source": [
    "#provider.runtime.upload_program(data='runtime_code_3qubits.py', metadata=meta)"
   ]
  },
  {
   "cell_type": "markdown",
   "metadata": {},
   "source": [
    "## Update of the runtime program"
   ]
  },
  {
   "cell_type": "code",
   "execution_count": 14,
   "metadata": {},
   "outputs": [],
   "source": [
    "program_id = 'vqs-3spins-LReYL3YjnR'\n",
    "provider.runtime.update_program(data='runtime_code_3qubits.py', metadata=meta, program_id=program_id)"
   ]
  },
  {
   "cell_type": "code",
   "execution_count": 15,
   "metadata": {},
   "outputs": [
    {
     "name": "stdout",
     "output_type": "stream",
     "text": [
      "vqs-3spins-LReYL3YjnR:\n",
      "  Name: VQS_3spins\n",
      "  Description: Variational Quantum Simulation of three spins\n",
      "  Creation date: 2022-02-24T13:59:03.288803Z\n",
      "  Update date: 2022-02-25T18:43:00.044523Z\n",
      "  Max execution time: 300000\n",
      "  Input parameters:\n",
      "    none\n",
      "  Interim results:\n",
      "    none\n",
      "  Returns:\n",
      "    none\n"
     ]
    }
   ],
   "source": [
    "prog = provider.runtime.program(program_id)\n",
    "print(prog)"
   ]
  },
  {
   "cell_type": "markdown",
   "metadata": {},
   "source": [
    "## Setting the inputs"
   ]
  },
  {
   "cell_type": "code",
   "execution_count": 18,
   "metadata": {},
   "outputs": [],
   "source": [
    "inputs = { \"shots\" : 2**13,\n",
    "            \"dt\"   : 0.01,\n",
    "            \"Nt\"   : 100 }"
   ]
  },
  {
   "cell_type": "markdown",
   "metadata": {},
   "source": [
    "## Testing the runtime program localy"
   ]
  },
  {
   "cell_type": "code",
   "execution_count": 19,
   "metadata": {},
   "outputs": [],
   "source": [
    "#results = main( Aer.get_backend('aer_simulator'), UserMessenger, inputs[\"shots\"], inputs[\"dt\"], inputs[\"Nt\"] )\n",
    "#plt.plot( results['params'] )"
   ]
  },
  {
   "cell_type": "markdown",
   "metadata": {},
   "source": [
    "## Choosing backend"
   ]
  },
  {
   "cell_type": "code",
   "execution_count": 24,
   "metadata": {},
   "outputs": [],
   "source": [
    "#backend = Aer.get_backend('aer_simulator')\n",
    "#backend = provider.backend.ibmq_qasm_simulator \n",
    "#backend = provider.get_backend('ibmq_guadalupe') \n",
    "#backend = provider.get_backend('ibmq_quito')\n",
    "#backend = provider.get_backend('ibm_cairo')\n",
    "backend = provider.get_backend('ibmq_lima')\n",
    "options = {'backend_name': backend.name()}"
   ]
  },
  {
   "cell_type": "markdown",
   "metadata": {},
   "source": [
    "## Running the runtime program in the experimental backend"
   ]
  },
  {
   "cell_type": "code",
   "execution_count": 25,
   "metadata": {},
   "outputs": [
    {
     "data": {
      "text/plain": [
       "'c8ci6uvufkqek35ccq6g'"
      ]
     },
     "execution_count": 25,
     "metadata": {},
     "output_type": "execute_result"
    }
   ],
   "source": [
    "job = provider.runtime.run(program_id, options=options, inputs=inputs )\n",
    "job.job_id()"
   ]
  },
  {
   "cell_type": "code",
   "execution_count": 26,
   "metadata": {},
   "outputs": [],
   "source": [
    "#ibmq_qasm_simulator 'c8b9sb1g1081sbjs82n0' cancelled\n",
    "#ibmq_guadalupe      'c8ba6d3ec8d9aqac8cfg' cancelled\n",
    "#ibmq_quito          'c8ba6jtd07hgb6ucushg'\n",
    "#ibm_cairo           'c8bajbbec8d9aqacal7g'\n",
    "#ibm_lima            'c8bbb4hg1081sbjsgedg'\n",
    "#ibm_lima 3 qubits   'c8bouk1g1089nneic5jg'\n",
    "#ibm_lima 3 qubits   'c8ci6uvufkqek35ccq6g'\n",
    "#ibm_cairo 3qubits   'c8ci6rksrd26aqrpnhk0'\n",
    "#ibmq_quito          'c8ci6l4srd26aqrpnhh0'"
   ]
  },
  {
   "cell_type": "markdown",
   "metadata": {},
   "source": [
    "## Loading the experimental results"
   ]
  },
  {
   "cell_type": "code",
   "execution_count": 11,
   "metadata": {},
   "outputs": [],
   "source": [
    "job = provider.runtime.job('c8bouk1g1089nneic5jg')"
   ]
  },
  {
   "cell_type": "code",
   "execution_count": 12,
   "metadata": {},
   "outputs": [
    {
     "data": {
      "image/png": "[encoded data removed]",
      "text/plain": [
       "<Figure size 432x288 with 1 Axes>"
      ]
     },
     "metadata": {
      "needs_background": "light"
     },
     "output_type": "display_data"
    }
   ],
   "source": [
    "results = job.result()\n",
    "plt.plot( results['params'] )\n",
    "plt.savefig('Experimental_results.pdf')"
   ]
  },
  {
   "cell_type": "code",
   "execution_count": null,
   "metadata": {},
   "outputs": [],
   "source": []
  }
 ],
 "metadata": {
  "interpreter": {
   "hash": "77226c1dc9bf5b6e8896463442f774bf79a046d9b0c1383232480e54be477d27"
  },
  "kernelspec": {
   "display_name": "Python 3.9.5 ('base')",
   "language": "python",
   "name": "python3"
  },
  "language_info": {
   "codemirror_mode": {
    "name": "ipython",
    "version": 3
   },
   "file_extension": ".py",
   "mimetype": "text/x-python",
   "name": "python",
   "nbconvert_exporter": "python",
   "pygments_lexer": "ipython3",
   "version": "3.9.5"
  },
  "orig_nbformat": 4
 },
 "nbformat": 4,
 "nbformat_minor": 2
}
