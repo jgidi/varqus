{
 "cells": [
  {
   "cell_type": "markdown",
   "id": "fa75af6d",
   "metadata": {},
   "source": [
    "# Quantum Variational Simulator"
   ]
  },
  {
   "cell_type": "markdown",
   "id": "75a1d63e",
   "metadata": {},
   "source": [
    "## The time-dependent variational principle"
   ]
  },
  {
   "cell_type": "markdown",
   "id": "604466a5",
   "metadata": {},
   "source": [
    "This principle corresponding to the Schrödinger equation reads $\\delta \\int_{t_{i}}^{t_{f}} dt L=0$, where the Lagrangian is $L=\\langle\\Psi(t)|\\left(i \\frac{\\partial}{\\partial t}-H\\right)| \\Psi(t)\\rangle$. Assuming that the state $| \\Psi(t)\\rangle$ is determined by a set of real parameters $\\left\\{\\lambda_{k}(t)\\right\\}$, that is $|\\Psi(t)\\rangle \\equiv\\left|\\Psi\\left(\\lambda_{1}, \\lambda_{2}, \\ldots\\right)\\right\\rangle$. The the Lagrangian can be rewritten as \n",
    "\n",
    "$$\n",
    "L=i \\sum_{k}\\langle\\Psi| \\frac{\\partial|\\Psi\\rangle}{\\partial \\lambda_{k}} \\dot{\\lambda}_{k}-\\langle\\Psi|H| \\Psi\\rangle\n",
    "$$\n",
    "\n",
    "which is a function of parameters $\\{\\lambda_{k}\\}$ and their time derivatives $\\left\\{\\dot{\\lambda}_{k}=\\left[d \\lambda_{k} / d t\\right]\\right\\}$. After applying the Euler-Lagrange equation, the evolution of parameters is\n",
    "\n",
    "$$\n",
    "\\sum_{q} A_{k, q} \\dot{\\lambda}_{q}=V_{k}\n",
    "$$\n",
    "\n",
    "where\n",
    "\n",
    "$$\n",
    "A_{k, q}=i  \\frac{\\partial\\langle\\Psi|}{\\partial \\lambda_{k}} \\frac{\\partial|\\Psi\\rangle}{\\partial \\lambda_{q}}+\\text { H.c. } \\quad \\text{and} \\quad V_{k}= \\frac{\\partial\\langle\\Psi|}{\\partial \\lambda_{k}} H|\\Psi\\rangle+\\text { H.c. }\n",
    "$$"
   ]
  },
  {
   "cell_type": "markdown",
   "id": "140b0485",
   "metadata": {},
   "source": [
    "## Variational algorithm on a hybrid computer"
   ]
  }
 ],
 "metadata": {
  "kernelspec": {
   "display_name": "Python 3 (ipykernel)",
   "language": "python",
   "name": "python3"
  },
  "language_info": {
   "codemirror_mode": {
    "name": "ipython",
    "version": 3
   },
   "file_extension": ".py",
   "mimetype": "text/x-python",
   "name": "python",
   "nbconvert_exporter": "python",
   "pygments_lexer": "ipython3",
   "version": "3.8.12"
  }
 },
 "nbformat": 4,
 "nbformat_minor": 5
}
