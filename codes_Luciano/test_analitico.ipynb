{
 "cells": [
  {
   "cell_type": "code",
   "execution_count": 60,
   "metadata": {},
   "outputs": [],
   "source": [
    "import numpy as np\n",
    "import scipy.linalg as la\n",
    "import matplotlib.pyplot as plt"
   ]
  },
  {
   "cell_type": "code",
   "execution_count": 35,
   "metadata": {},
   "outputs": [],
   "source": [
    "sz = np.array([ [1,0],[0,-1] ] )\n",
    "sx = np.array( [ [0,1], [1,0] ] )\n",
    "I = np.eye(2)\n",
    "\n",
    "def apply_gate( op, exp=False, arg=0 ):\n",
    "    if op =='X':\n",
    "        op = sx\n",
    "    elif op == 'Z':\n",
    "        op = sz\n",
    "    if exp is True:\n",
    "        op = la.expm(-arg*op)\n",
    "    return op\n",
    "\n",
    "def compute_hamiltonian( ops , hs ):\n",
    "\n",
    "    H = 0\n",
    "    for j in range( len(ops) ) :\n",
    "        H += hs[j]*apply_gate( ops[j] )\n",
    "\n",
    "    return H\n",
    "\n",
    "def variational_state( state_in, ops, fs, params ):\n",
    "\n",
    "    state_out = state_in\n",
    "    for j in range(num_params):\n",
    "        state_out = apply_gate( ops[j], exp=True, arg=params[j]*fs[j] ) @ state_out\n",
    "\n",
    "    return state_out \n",
    "\n",
    "def derivatives_state( state_in, ops, fs, params  ):\n",
    "    deriv = []\n",
    "    for i in range(num_params):\n",
    "\n",
    "        state = state_in\n",
    "        for j in range(num_params):\n",
    "            if j == i :\n",
    "                state = apply_gate( ops[j] ) @ state\n",
    "            state = apply_gate( ops[j], exp=True, arg=params[j]*fs[j] ) @ state\n",
    "\n",
    "        deriv.append( state )\n",
    "    deriv = np.array(deriv)\n",
    "\n",
    "    return deriv\n",
    "\n"
   ]
  },
  {
   "cell_type": "code",
   "execution_count": 72,
   "metadata": {},
   "outputs": [
    {
     "data": {
      "text/plain": [
       "array([[-0.5, -0.5],\n",
       "       [-0.5,  0.5]])"
      ]
     },
     "execution_count": 72,
     "metadata": {},
     "output_type": "execute_result"
    }
   ],
   "source": [
    "ops = [ 'Z', 'X'  ]\n",
    "fs  = [ 1j/2, 1j/2 ]\n",
    "hs  = [ -1/2, -1/2 ]\n",
    "num_params = len(ops)\n",
    "H = compute_hamiltonian(ops, hs)\n",
    "params = [ 0.1, 1 ]\n",
    "state_in = np.array([1,0])\n",
    "H"
   ]
  },
  {
   "cell_type": "code",
   "execution_count": 73,
   "metadata": {},
   "outputs": [
    {
     "data": {
      "text/plain": [
       "array([ 0.87648581-0.04386085j, -0.02396129-0.47882638j])"
      ]
     },
     "execution_count": 73,
     "metadata": {},
     "output_type": "execute_result"
    }
   ],
   "source": [
    "state_out = variational_state( state_in, ops, fs, params )\n",
    "state_out"
   ]
  },
  {
   "cell_type": "code",
   "execution_count": 74,
   "metadata": {},
   "outputs": [
    {
     "data": {
      "text/plain": [
       "array([[ 0.87648581-0.04386085j, -0.02396129-0.47882638j],\n",
       "       [-0.02396129-0.47882638j,  0.87648581-0.04386085j]])"
      ]
     },
     "execution_count": 74,
     "metadata": {},
     "output_type": "execute_result"
    }
   ],
   "source": [
    "deriv = derivatives_state( state_in, ops, fs, params  )\n",
    "deriv"
   ]
  },
  {
   "cell_type": "code",
   "execution_count": 75,
   "metadata": {},
   "outputs": [
    {
     "data": {
      "text/plain": [
       "array([[1., 0.],\n",
       "       [0., 1.]])"
      ]
     },
     "execution_count": 75,
     "metadata": {},
     "output_type": "execute_result"
    }
   ],
   "source": [
    "M = np.real( deriv.conj()@deriv )\n",
    "M"
   ]
  },
  {
   "cell_type": "code",
   "execution_count": 76,
   "metadata": {},
   "outputs": [
    {
     "data": {
      "text/plain": [
       "array([ 2.77555756e-17, -4.20735492e-01])"
      ]
     },
     "execution_count": 76,
     "metadata": {},
     "output_type": "execute_result"
    }
   ],
   "source": [
    "V = np.imag( deriv.conj()@H@state_out )\n",
    "V"
   ]
  },
  {
   "cell_type": "code",
   "execution_count": 77,
   "metadata": {},
   "outputs": [
    {
     "data": {
      "text/plain": [
       "array([ 0.87648581-0.04386085j, -0.02396129-0.47882638j])"
      ]
     },
     "execution_count": 77,
     "metadata": {},
     "output_type": "execute_result"
    }
   ],
   "source": [
    "state_out"
   ]
  },
  {
   "cell_type": "code",
   "execution_count": 78,
   "metadata": {},
   "outputs": [
    {
     "data": {
      "text/plain": [
       "array([ 2.77555756e-17, -4.20735492e-01])"
      ]
     },
     "execution_count": 78,
     "metadata": {},
     "output_type": "execute_result"
    }
   ],
   "source": [
    "dthetadt = la.solve( M, V )\n",
    "dthetadt"
   ]
  },
  {
   "cell_type": "code",
   "execution_count": 83,
   "metadata": {},
   "outputs": [],
   "source": [
    "dt = 1/100\n",
    "theta = params\n",
    "thetas = []\n",
    "states = []\n",
    "thetas.append( theta.copy() )\n",
    "states.append( variational_state( state_in, ops, fs, theta )   )\n",
    "\n",
    "for k in range(10000):\n",
    "    theta +=  dthetadt*dt\n",
    "    thetas.append( theta.copy() )\n",
    "    states.append( variational_state( state_in, ops, fs, theta )   )\n"
   ]
  },
  {
   "cell_type": "code",
   "execution_count": 84,
   "metadata": {},
   "outputs": [
    {
     "data": {
      "text/plain": [
       "[<matplotlib.lines.Line2D at 0x28f19763940>,\n",
       " <matplotlib.lines.Line2D at 0x28f19763970>]"
      ]
     },
     "execution_count": 84,
     "metadata": {},
     "output_type": "execute_result"
    },
    {
     "data": {
      "image/png": "[encoded data removed]",
      "text/plain": [
       "<Figure size 432x288 with 1 Axes>"
      ]
     },
     "metadata": {
      "needs_background": "light"
     },
     "output_type": "display_data"
    }
   ],
   "source": [
    "plt.plot( abs(np.array(states) ) )"
   ]
  },
  {
   "cell_type": "code",
   "execution_count": null,
   "metadata": {},
   "outputs": [],
   "source": []
  },
  {
   "cell_type": "code",
   "execution_count": null,
   "metadata": {},
   "outputs": [],
   "source": []
  },
  {
   "cell_type": "code",
   "execution_count": null,
   "metadata": {},
   "outputs": [],
   "source": []
  }
 ],
 "metadata": {
  "interpreter": {
   "hash": "77226c1dc9bf5b6e8896463442f774bf79a046d9b0c1383232480e54be477d27"
  },
  "kernelspec": {
   "display_name": "Python 3.9.5 ('base')",
   "language": "python",
   "name": "python3"
  },
  "language_info": {
   "codemirror_mode": {
    "name": "ipython",
    "version": 3
   },
   "file_extension": ".py",
   "mimetype": "text/x-python",
   "name": "python",
   "nbconvert_exporter": "python",
   "pygments_lexer": "ipython3",
   "version": "3.9.5"
  },
  "orig_nbformat": 4
 },
 "nbformat": 4,
 "nbformat_minor": 2
}
