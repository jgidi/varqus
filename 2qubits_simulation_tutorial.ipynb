{
 "cells": [
  {
   "cell_type": "code",
   "execution_count": 1,
   "metadata": {
    "ExecuteTime": {
     "end_time": "2022-02-25T19:31:17.602370Z",
     "start_time": "2022-02-25T19:31:16.108429Z"
    }
   },
   "outputs": [],
   "source": [
    "import numpy as np\n",
    "import matplotlib.pyplot as plt\n",
    "import h5py\n",
    "\n",
    "from varqus.ode import define_vqs_ode, define_schrodinger_ode\n",
    "from varqus.integrators import euler\n",
    "from varqus.states import state_from_parameters, state_infidelity"
   ]
  },
  {
   "cell_type": "markdown",
   "metadata": {},
   "source": [
    "# Variational Quantum Simulator for the 2 qubits quantum Ising model"
   ]
  },
  {
   "cell_type": "markdown",
   "metadata": {},
   "source": [
    "Following $[$[1](https://doi.org/10.1103/PhysRevLett.107.070601)$]$, we test our variational algorith for the quantum Ising model $[$[2](https://en.wikipedia.org/wiki/Ising_model)$]$. The Hamiltonian of the model is given by:\n",
    "\n",
    "$$\n",
    "H = H_{z} + H_{x} = -J \\sum_{j=1}^{n_{\\mathrm{s}}} \\sigma_{j}^{\\mathrm{z}} \\sigma_{j+1}^{\\mathrm{z}} - B\\sum_{j=1}^{n_{\\mathrm{s}}} \\sigma_{j}^{\\mathrm{x}}\n",
    "$$\n",
    "\n",
    "where $n_s$ is the number of spins, $J$ is the interaction between nearest neighbours spins and $B$ is an external magnetic field. The operators $\\sigma^{x}_{j}$ and $\\sigma^{z}_{j}$ are the $X$ and $Z$ Pauli operators acting on the $j$ site, and every pair is counted once. For the 2 spins case $n_{s}=2$, and taking the constants $J=B=\\frac{1}{2}$, the Hamiltonian becomes:\n",
    "\n",
    "$$\n",
    "H = H_{z} + H_{x} = -\\frac{1}{2} \\left( ZZ\\right) -\\frac{1}{2} \\left(XI + IX \\right)\n",
    "$$"
   ]
  },
  {
   "cell_type": "markdown",
   "metadata": {},
   "source": [
    "The trial state $|\\Psi\\rangle$ for the hybrid algorithm is\n",
    "\n",
    "$$\n",
    "|\\Psi (\\lambda_1, \\lambda_2) \\rangle = R(\\lambda_1, \\lambda_2) |\\Phi(0)\\rangle = e^{i \\lambda_{1} H_{x}} e^{i \\lambda_{2} H_{z}} |\\Phi(0)\\rangle\n",
    "$$\n",
    "\n",
    "where $R(\\lambda_1, \\lambda_2)$ is a sequence of quantum gates determined by parameters $(\\lambda_1, \\lambda_2)$ and the initial state $|\\Phi(0)\\rangle$ is a one-dimensional cluster state given by\n",
    "\n",
    "$$\n",
    "|\\Phi(0)\\rangle = H_{1} H_{2} |00\\rangle = \\frac{1}{2} \\left( |00\\rangle + |01\\rangle + |10\\rangle + |11\\rangle  \\right)\n",
    "$$\n",
    "\n",
    "where $H_i$ is the Hadamard gates acting on the $i$-th qubit."
   ]
  },
  {
   "cell_type": "markdown",
   "metadata": {},
   "source": [
    "First, we define the proper parameters and operators to construct the Hamiltonian $H$, the trial state $|\\Psi\\rangle$ and the initial state $|\\Phi(0)\\rangle$. "
   ]
  },
  {
   "cell_type": "code",
   "execution_count": 2,
   "metadata": {
    "ExecuteTime": {
     "end_time": "2022-02-25T19:31:17.618329Z",
     "start_time": "2022-02-25T19:31:17.603368Z"
    }
   },
   "outputs": [],
   "source": [
    "J = 1/2\n",
    "B = 1/2\n",
    "\n",
    "# Hamiltonian parameters and operators\n",
    "\n",
    "hs = [-J, -B, -B]\n",
    "opsH = [\"ZZ\", \"XI\", \"IX\"]\n",
    "\n",
    "# Rotations parameters and operators\n",
    "\n",
    "fs = [[-1j*J], [-1j*B, -1j*B]]\n",
    "ops = [[\"ZZ\"], [\"XI\", \"IX\"]]\n",
    "\n",
    "# Initial state\n",
    "\n",
    "ini_state = np.ones(4, dtype=complex)/2"
   ]
  },
  {
   "cell_type": "markdown",
   "metadata": {},
   "source": [
    "Then, we fix the time step $\\delta t$, the number of steps $N_t$ and the initial parameters $\\lambda^{0}_{1}, \\lambda^{0}_{2}$ for the trial state"
   ]
  },
  {
   "cell_type": "code",
   "execution_count": 3,
   "metadata": {
    "ExecuteTime": {
     "end_time": "2022-02-25T19:31:17.634289Z",
     "start_time": "2022-02-25T19:31:17.620323Z"
    }
   },
   "outputs": [],
   "source": [
    "# Time discretization and initial parameters for the trial state\n",
    "\n",
    "params_init = np.array([1.0, 1.0])\n",
    "dt = 0.01\n",
    "Nt = 100"
   ]
  },
  {
   "cell_type": "markdown",
   "metadata": {},
   "source": [
    "Now, we execute our algorithm, first defining the ordinary diferential equation using the variational quantum simulator, and then solving it using a numerical Euler's method, to obtain the parameters in a posterior time $\\left\\{\\lambda_{k}\\left(t_{n}\\right)\\right\\}$."
   ]
  },
  {
   "cell_type": "code",
   "execution_count": 4,
   "metadata": {
    "ExecuteTime": {
     "end_time": "2022-02-25T19:32:49.130185Z",
     "start_time": "2022-02-25T19:31:17.636280Z"
    }
   },
   "outputs": [],
   "source": [
    "# Define the ode as a function of the parameters\n",
    "\n",
    "ode = define_vqs_ode(ops, opsH, fs, hs, ini_state, shots=2**13)\n",
    "\n",
    "# Integrate in time using Euler's method\n",
    "lambda_k_t = euler(ode, params_init, dt, Nt)"
   ]
  },
  {
   "cell_type": "code",
   "execution_count": 5,
   "metadata": {
    "ExecuteTime": {
     "end_time": "2022-02-25T19:32:49.161609Z",
     "start_time": "2022-02-25T19:32:49.131183Z"
    }
   },
   "outputs": [],
   "source": [
    "# If you don't want to run the full algorithm, an example is attached on the file \"params_2qubits.hdf5\".\n",
    "# Comment the two previous line and uncomment the last two lines\n",
    "\n",
    "# Save simulated parameters\n",
    "\n",
    "params_sim = h5py.File(\"data/params_2qubits.hdf5\", \"w\")\n",
    "dset = params_sim.create_dataset(\"params\", np.shape(lambda_k_t), data=lambda_k_t)\n",
    "params_sim.close()\n",
    "\n",
    "# Load simulated parameters\n",
    "\n",
    "# params_sim = h5py.File('data/params_2qubits.hdf5', 'r')\n",
    "# lambda_k_t = params_sim[\"params\"][:]"
   ]
  },
  {
   "cell_type": "code",
   "execution_count": 6,
   "metadata": {
    "ExecuteTime": {
     "end_time": "2022-02-25T19:32:49.303739Z",
     "start_time": "2022-02-25T19:32:49.162607Z"
    }
   },
   "outputs": [
    {
     "data": {
      "text/plain": [
       "Text(0.5, 1.0, 'Parameter Evolution using the Variational Quantum Simulator')"
      ]
     },
     "execution_count": 6,
     "metadata": {},
     "output_type": "execute_result"
    },
    {
     "data": {
      "image/png": "[encoded data removed]",
      "text/plain": [
       "<Figure size 432x288 with 1 Axes>"
      ]
     },
     "metadata": {
      "needs_background": "light"
     },
     "output_type": "display_data"
    }
   ],
   "source": [
    "# Plot parameter evolution\n",
    "\n",
    "plt.plot(dt*np.arange(Nt), lambda_k_t, label = [f\"param {i}\" for i in range(lambda_k_t.shape[1])])\n",
    "plt.xlabel(\"Time\")\n",
    "plt.ylabel(\"Parameters\")\n",
    "plt.legend(loc=\"best\")\n",
    "plt.title(\"Parameter Evolution using the Variational Quantum Simulator\")"
   ]
  },
  {
   "cell_type": "markdown",
   "metadata": {},
   "source": [
    "We want to compare our results to the actual time evolution of the state obtained solving the Schrödinger equation. First, we need to make sure that for the initial parameters, the trial state $|\\Psi (\\lambda_1^0, \\lambda_2^0) \\rangle$ is equivalent to the initial state for $t=0$. We will fix then as initial state for the evolution $|\\Phi_s (0) \\rangle$ such that\n",
    "\n",
    "$$\n",
    "|\\Phi_s (0) \\rangle = e^{i \\lambda_1^0 H_{x}} e^{i \\lambda_2^0 H_{z}} |\\Phi (0) \\rangle = |\\Psi (\\lambda_1^0, \\lambda_2^0) \\rangle\n",
    "$$\n",
    "\n",
    "and the state evolution is then given by\n",
    "\n",
    "$$\n",
    "|\\Phi_s (t) \\rangle = e^{-i H t} |\\Phi_s (0) \\rangle\n",
    "$$"
   ]
  },
  {
   "cell_type": "code",
   "execution_count": 7,
   "metadata": {
    "ExecuteTime": {
     "end_time": "2022-02-25T19:32:49.319766Z",
     "start_time": "2022-02-25T19:32:49.305732Z"
    }
   },
   "outputs": [],
   "source": [
    "initial_state_s = state_from_parameters(params_init, ops, fs, ini_state)"
   ]
  },
  {
   "cell_type": "markdown",
   "metadata": {},
   "source": [
    "The Schrödinger equation is then solved numerically using the Euler's method"
   ]
  },
  {
   "cell_type": "code",
   "execution_count": 8,
   "metadata": {
    "ExecuteTime": {
     "end_time": "2022-02-25T19:32:49.351226Z",
     "start_time": "2022-02-25T19:32:49.320764Z"
    }
   },
   "outputs": [],
   "source": [
    "# Solve the schrodinger equation numerically\n",
    "\n",
    "schrodinger = define_schrodinger_ode(opsH, hs)\n",
    "numeric_evolution = euler(schrodinger, initial_state_s, dt, Nt)"
   ]
  },
  {
   "cell_type": "markdown",
   "metadata": {},
   "source": [
    "And finally we get the states from the parameters, and compare the results between $|\\Psi (\\lambda_1(t), \\lambda_2(t)) \\rangle$ and $|\\Phi_s (t) \\rangle$."
   ]
  },
  {
   "cell_type": "code",
   "execution_count": 9,
   "metadata": {
    "ExecuteTime": {
     "end_time": "2022-02-25T19:32:49.837328Z",
     "start_time": "2022-02-25T19:32:49.352223Z"
    }
   },
   "outputs": [
    {
     "data": {
      "text/plain": [
       "Text(0.5, 1.0, 'Infidelity between the obtained state from the VQS and the Schrödinger evolution')"
      ]
     },
     "execution_count": 9,
     "metadata": {},
     "output_type": "execute_result"
    },
    {
     "data": {
      "image/png": "[encoded data removed]",
      "text/plain": [
       "<Figure size 432x288 with 1 Axes>"
      ]
     },
     "metadata": {
      "needs_background": "light"
     },
     "output_type": "display_data"
    }
   ],
   "source": [
    "# From params to the state psi(lambda)\n",
    "\n",
    "psi_lambda_t = [state_from_parameters(lambda_k_t[t], ops, fs, ini_state) for t in range(Nt)]\n",
    "\n",
    "\n",
    "# Calculate infidelity from the circuit vqs with the schrodinger equation solution using matrix exponentiation\n",
    "\n",
    "inf_array = [state_infidelity(numeric_evolution[t], psi_lambda_t[t]) for t in range(Nt)]\n",
    "\n",
    "plt.plot(dt*np.arange(Nt), inf_array)\n",
    "plt.xlabel(\"Time\")\n",
    "plt.ylabel(\"Infidelity\")\n",
    "plt.yscale(\"log\")\n",
    "plt.title(\"Infidelity between the obtained state from the VQS and the Schrödinger evolution\")"
   ]
  },
  {
   "cell_type": "markdown",
   "metadata": {},
   "source": [
    "## References\n",
    "\n",
    "[1] Ying Li and Simon C. Benjamin. Efficient variational quantum simulator incorporating active error minimization. $\\textit{Phys. Rev. X}$, 7:021050, Jun 2017. DOI: https://doi.org/10.1103/PhysRevX.7.021050. URL: https://link.aps.org/doi/10.1103/PhysRevX.7.021050.\n",
    "\n",
    "[2] https://en.wikipedia.org/wiki/Ising_model"
   ]
  }
 ],
 "metadata": {
  "hide_input": false,
  "kernelspec": {
   "display_name": "Python 3 (ipykernel)",
   "language": "python",
   "name": "python3"
  },
  "language_info": {
   "codemirror_mode": {
    "name": "ipython",
    "version": 3
   },
   "file_extension": ".py",
   "mimetype": "text/x-python",
   "name": "python",
   "nbconvert_exporter": "python",
   "pygments_lexer": "ipython3",
   "version": "3.9.7"
  }
 },
 "nbformat": 4,
 "nbformat_minor": 4
}
