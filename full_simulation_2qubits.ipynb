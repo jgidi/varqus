{
 "cells": [
  {
   "cell_type": "code",
   "execution_count": 1,
   "metadata": {
    "ExecuteTime": {
     "end_time": "2022-02-25T00:53:06.428509Z",
     "start_time": "2022-02-25T00:53:04.773411Z"
    }
   },
   "outputs": [],
   "source": [
    "import numpy as np\n",
    "import matplotlib.pyplot as plt\n",
    "from core.ode import define_vqs_ode, define_schrodinger_ode\n",
    "from core.integrators import euler, rk4\n",
    "from core.variational_simulation import trial_state_ising, R_k_matrix\n",
    "from core.utils import infidelity\n",
    "from core.schrodinger import state_evoluted\n",
    "from core.schrodinger import time_evolution, state_evoluted\n",
    "import scipy.linalg as la\n",
    "from core.utils import parse_gate"
   ]
  },
  {
   "cell_type": "markdown",
   "metadata": {},
   "source": [
    "# 2 qubits"
   ]
  },
  {
   "cell_type": "code",
   "execution_count": 2,
   "metadata": {
    "ExecuteTime": {
     "end_time": "2022-02-25T00:53:06.444198Z",
     "start_time": "2022-02-25T00:53:06.428509Z"
    }
   },
   "outputs": [],
   "source": [
    "J = 1/2\n",
    "B = 1/2\n",
    "fs = [[-1j*J], [-1j*B, -1j*B]]\n",
    "params_init = np.array([1.0, 1.0])\n",
    "ops = [[\"ZZ\"], [\"XI\", \"IX\"]]\n",
    "\n",
    "hs = [-2.0*J, -B, -B] # Hamiltonian non-dependent on time\n",
    "# hs = lambda t: [-2*J*np.cos(t), -B*np.cos(t), -B*np.sin(t)] # Hamiltonian parameters dependent on time # FAKE DATA FTW\n",
    "\n",
    "opsH = [\"ZZ\", \"XI\", \"IX\"]\n",
    "\n",
    "state = np.ones(4, dtype=complex)/2\n",
    "state_vqe = state\n",
    "\n",
    "# Time discretization\n",
    "dt = 1e-3\n",
    "Nt = int(2.0*1e3/(2.0*np.pi))"
   ]
  },
  {
   "cell_type": "code",
   "execution_count": 3,
   "metadata": {
    "ExecuteTime": {
     "end_time": "2022-02-25T00:53:09.841403Z",
     "start_time": "2022-02-25T00:53:06.511020Z"
    }
   },
   "outputs": [],
   "source": [
    "ode_an = define_vqs_ode(ops, opsH, fs, hs, state_vqe, analytic=True)    # Define the diff. equation RHS as a function of the parameters\n",
    "params_evolved_an = euler(ode_an, params_init, dt, Nt)              # Integrate in time!\n",
    "# params_evolved = rk4(ode, params_init, dt, Nt)                # Integrate in time!"
   ]
  },
  {
   "cell_type": "code",
   "execution_count": 4,
   "metadata": {
    "ExecuteTime": {
     "end_time": "2022-02-25T00:53:09.985003Z",
     "start_time": "2022-02-25T00:53:09.841403Z"
    }
   },
   "outputs": [
    {
     "data": {
      "text/plain": [
       "Text(0.5, 1.0, 'Analytic')"
      ]
     },
     "execution_count": 4,
     "metadata": {},
     "output_type": "execute_result"
    },
    {
     "data": {
      "image/png": "[encoded data removed]",
      "text/plain": [
       "<Figure size 432x288 with 1 Axes>"
      ]
     },
     "metadata": {
      "needs_background": "light"
     },
     "output_type": "display_data"
    }
   ],
   "source": [
    "# Plot parameter evolution\n",
    "plt.plot(dt*np.arange(Nt), params_evolved_an, label = [f\"param {i}\" for i in range(params_evolved_an.shape[1])])\n",
    "plt.xlabel(\"time\")\n",
    "plt.legend(loc=\"best\")\n",
    "plt.title(\"Analytic\")"
   ]
  },
  {
   "cell_type": "code",
   "execution_count": 5,
   "metadata": {
    "ExecuteTime": {
     "end_time": "2022-02-25T01:00:23.237560Z",
     "start_time": "2022-02-25T00:53:09.986001Z"
    }
   },
   "outputs": [],
   "source": [
    "# Through the circuit\n",
    "\n",
    "ode_sim = define_vqs_ode(ops, opsH, fs, hs, state_vqe)    # Define the diff. equation RHS as a function of the parameters\n",
    "params_evolved_sim = euler(ode_sim, params_init, dt, Nt)  # Integrate in time!\n",
    "# params_evolved = rk4(ode, params_init, dt, Nt)    # Integrate in time!"
   ]
  },
  {
   "cell_type": "code",
   "execution_count": 6,
   "metadata": {
    "ExecuteTime": {
     "end_time": "2022-02-25T01:00:23.362196Z",
     "start_time": "2022-02-25T01:00:23.239555Z"
    }
   },
   "outputs": [
    {
     "data": {
      "text/plain": [
       "Text(0.5, 1.0, 'Circuit')"
      ]
     },
     "execution_count": 6,
     "metadata": {},
     "output_type": "execute_result"
    },
    {
     "data": {
      "image/png": "[encoded data removed]",
      "text/plain": [
       "<Figure size 432x288 with 1 Axes>"
      ]
     },
     "metadata": {
      "needs_background": "light"
     },
     "output_type": "display_data"
    }
   ],
   "source": [
    "# Plot parameter evolution\n",
    "plt.plot(dt*np.arange(Nt), params_evolved_sim, label = [f\"param {i}\" for i in range(params_evolved_sim.shape[1])])\n",
    "plt.xlabel(\"time\")\n",
    "plt.legend(loc=\"best\")\n",
    "plt.title(\"Circuit\")"
   ]
  },
  {
   "cell_type": "code",
   "execution_count": 7,
   "metadata": {
    "ExecuteTime": {
     "end_time": "2022-02-25T01:00:23.377439Z",
     "start_time": "2022-02-25T01:00:23.365200Z"
    }
   },
   "outputs": [],
   "source": [
    "Hz = R_k_matrix(params_init[0], fs[0], ops[0])\n",
    "Hx = R_k_matrix(params_init[1], fs[1], ops[1])\n",
    "initial_state_ising = Hx @ Hz @ state\n",
    "initial_state_ising = initial_state_ising/np.linalg.norm(initial_state_ising)"
   ]
  },
  {
   "cell_type": "code",
   "execution_count": 8,
   "metadata": {
    "ExecuteTime": {
     "end_time": "2022-02-25T01:00:23.439646Z",
     "start_time": "2022-02-25T01:00:23.378431Z"
    }
   },
   "outputs": [],
   "source": [
    "# Solve the schrodinger equation using matrix exponentiation\n",
    "\n",
    "analityc_evolution = state_evoluted(initial_state_ising, opsH, hs, dt, Nt, img=True)"
   ]
  },
  {
   "cell_type": "code",
   "execution_count": 9,
   "metadata": {
    "ExecuteTime": {
     "end_time": "2022-02-25T01:00:23.780828Z",
     "start_time": "2022-02-25T01:00:23.440554Z"
    }
   },
   "outputs": [],
   "source": [
    "# from params to the state psi(lambda)\n",
    "\n",
    "params_to_state_an = trial_state_ising(params_evolved_an, state, fs, ops, Nt)\n",
    "params_to_state_sim = trial_state_ising(params_evolved_sim, state, fs, ops, Nt)"
   ]
  },
  {
   "cell_type": "code",
   "execution_count": 10,
   "metadata": {
    "ExecuteTime": {
     "end_time": "2022-02-25T01:00:24.151111Z",
     "start_time": "2022-02-25T01:00:23.782681Z"
    }
   },
   "outputs": [
    {
     "data": {
      "text/plain": [
       "Text(0.5, 1.0, 'Infidelity')"
      ]
     },
     "execution_count": 10,
     "metadata": {},
     "output_type": "execute_result"
    },
    {
     "data": {
      "image/png": "[encoded data removed]",
      "text/plain": [
       "<Figure size 432x288 with 1 Axes>"
      ]
     },
     "metadata": {
      "needs_background": "light"
     },
     "output_type": "display_data"
    }
   ],
   "source": [
    "# Calculate infidelity from the analytic vqe with schrodinger equation solution using matrix exponentiation\n",
    "\n",
    "inf_array_1 = infidelity(analityc_evolution, params_to_state_an)\n",
    "\n",
    "plt.plot(dt*np.arange(Nt), inf_array_1)\n",
    "plt.xlabel(\"time\")\n",
    "plt.yscale(\"log\")\n",
    "\n",
    "plt.title(\"Infidelity\")"
   ]
  },
  {
   "cell_type": "code",
   "execution_count": 11,
   "metadata": {
    "ExecuteTime": {
     "end_time": "2022-02-25T01:00:24.336350Z",
     "start_time": "2022-02-25T01:00:24.151932Z"
    }
   },
   "outputs": [
    {
     "data": {
      "text/plain": [
       "Text(0.5, 1.0, 'Infidelity')"
      ]
     },
     "execution_count": 11,
     "metadata": {},
     "output_type": "execute_result"
    },
    {
     "data": {
      "image/png": "[encoded data removed]",
      "text/plain": [
       "<Figure size 432x288 with 1 Axes>"
      ]
     },
     "metadata": {
      "needs_background": "light"
     },
     "output_type": "display_data"
    }
   ],
   "source": [
    "# Calculate infidelity from the circuit vqe with schrodinger equation solution using matrix exponentiation\n",
    "\n",
    "inf_array_2 = infidelity(analityc_evolution, params_to_state_sim)\n",
    "\n",
    "plt.plot(dt*np.arange(Nt), inf_array_2)\n",
    "plt.xlabel(\"time\")\n",
    "plt.yscale(\"log\")\n",
    "plt.title(\"Infidelity\")"
   ]
  },
  {
   "cell_type": "code",
   "execution_count": 12,
   "metadata": {
    "ExecuteTime": {
     "end_time": "2022-02-25T01:00:24.351433Z",
     "start_time": "2022-02-25T01:00:24.338226Z"
    }
   },
   "outputs": [
    {
     "data": {
      "text/plain": [
       "0.0652714117370421"
      ]
     },
     "execution_count": 12,
     "metadata": {},
     "output_type": "execute_result"
    }
   ],
   "source": [
    "max(inf_array_2)"
   ]
  },
  {
   "cell_type": "code",
   "execution_count": 13,
   "metadata": {
    "ExecuteTime": {
     "end_time": "2022-02-25T01:00:24.366160Z",
     "start_time": "2022-02-25T01:00:24.355002Z"
    }
   },
   "outputs": [
    {
     "data": {
      "text/plain": [
       "317"
      ]
     },
     "execution_count": 13,
     "metadata": {},
     "output_type": "execute_result"
    }
   ],
   "source": [
    "np.argmax(inf_array_2)"
   ]
  },
  {
   "cell_type": "code",
   "execution_count": null,
   "metadata": {},
   "outputs": [],
   "source": []
  }
 ],
 "metadata": {
  "hide_input": false,
  "kernelspec": {
   "display_name": "Python 3 (ipykernel)",
   "language": "python",
   "name": "python3"
  },
  "language_info": {
   "codemirror_mode": {
    "name": "ipython",
    "version": 3
   },
   "file_extension": ".py",
   "mimetype": "text/x-python",
   "name": "python",
   "nbconvert_exporter": "python",
   "pygments_lexer": "ipython3",
   "version": "3.9.7"
  }
 },
 "nbformat": 4,
 "nbformat_minor": 4
}
