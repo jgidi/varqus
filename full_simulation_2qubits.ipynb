{
 "cells": [
  {
   "cell_type": "code",
   "execution_count": 1,
   "metadata": {
    "ExecuteTime": {
     "end_time": "2022-02-25T01:42:37.261095Z",
     "start_time": "2022-02-25T01:42:37.125544Z"
    }
   },
   "outputs": [],
   "source": [
    "import numpy as np\n",
    "import matplotlib.pyplot as plt\n",
    "import h5py\n",
    "\n",
    "from varqus.ode import define_vqs_ode, define_schrodinger_ode\n",
    "from varqus.integrators import euler"
   ]
  },
  {
   "cell_type": "markdown",
   "metadata": {},
   "source": [
    "# 2 qubits"
   ]
  },
  {
   "cell_type": "code",
   "execution_count": 2,
   "metadata": {
    "ExecuteTime": {
     "end_time": "2022-02-25T00:53:06.444198Z",
     "start_time": "2022-02-25T00:53:06.428509Z"
    }
   },
   "outputs": [],
   "source": [
    "J = 1/2\n",
    "B = 1/2\n",
    "fs = [[-1j*J], [-1j*B, -1j*B]]\n",
    "params_init = np.array([1.0, 1.0])\n",
    "ops = [[\"ZZ\"], [\"XI\", \"IX\"]]\n",
    "\n",
    "hs = [-2.0*J, -B, -B] # Hamiltonian non-dependent on time\n",
    "# hs = lambda t: [-2*J*np.cos(t), -B*np.cos(t), -B*np.sin(t)] # Hamiltonian parameters dependent on time # FAKE DATA FTW\n",
    "\n",
    "opsH = [\"ZZ\", \"XI\", \"IX\"]\n",
    "\n",
    "state = np.ones(4, dtype=complex)/2\n",
    "state_vqe = state\n",
    "\n",
    "# Time discretization\n",
    "dt = 1e-3\n",
    "Nt = int(2.0*1e3/(2.0*np.pi))"
   ]
  },
  {
   "cell_type": "code",
   "execution_count": 3,
   "metadata": {
    "ExecuteTime": {
     "end_time": "2022-02-25T00:53:09.841403Z",
     "start_time": "2022-02-25T00:53:06.511020Z"
    }
   },
   "outputs": [],
   "source": [
    "ode_an = define_vqs_ode(ops, opsH, fs, hs, state_vqe, backend='analytic')    # Define the diff. equation RHS as a function of the parameters\n",
    "params_evolved_an = euler(ode_an, params_init, dt, Nt)                       # Integrate in time!"
   ]
  },
  {
   "cell_type": "code",
   "execution_count": 4,
   "metadata": {
    "ExecuteTime": {
     "end_time": "2022-02-25T00:53:09.985003Z",
     "start_time": "2022-02-25T00:53:09.841403Z"
    }
   },
   "outputs": [
    {
     "data": {
      "text/plain": [
       "Text(0.5, 1.0, 'Analytic')"
      ]
     },
     "execution_count": 4,
     "metadata": {},
     "output_type": "execute_result"
    },
    {
     "data": {
      "image/png": "[encoded data removed]",
      "text/plain": [
       "<Figure size 432x288 with 1 Axes>"
      ]
     },
     "metadata": {
      "needs_background": "light"
     },
     "output_type": "display_data"
    }
   ],
   "source": [
    "# Plot parameter evolution\n",
    "plt.plot(dt*np.arange(Nt), params_evolved_an, label = [f\"param {i}\" for i in range(params_evolved_an.shape[1])])\n",
    "plt.xlabel(\"time\")\n",
    "plt.legend(loc=\"best\")\n",
    "plt.title(\"Analytic\")"
   ]
  },
  {
   "cell_type": "code",
   "execution_count": 5,
   "metadata": {
    "ExecuteTime": {
     "end_time": "2022-02-25T01:00:23.237560Z",
     "start_time": "2022-02-25T00:53:09.986001Z"
    }
   },
   "outputs": [],
   "source": [
    "# Through the circuit\n",
    "\n",
    "ode_sim = define_vqs_ode(ops, opsH, fs, hs, state_vqe, shots=2**13)    # Define the diff. equation RHS as a function of the parameters\n",
    "#params_evolved_sim = euler(ode_sim, params_init, dt, Nt)  # Integrate in time!\n"
   ]
  },
  {
   "cell_type": "code",
   "execution_count": 6,
   "metadata": {
    "ExecuteTime": {
     "end_time": "2022-02-25T01:44:26.736513Z",
     "start_time": "2022-02-25T01:44:26.717564Z"
    }
   },
   "outputs": [],
   "source": [
    "# Guardar parametros simulados\n",
    "\n",
    "# params_sim = h5py.File(\"params_2qubits.hdf5\", \"w\")\n",
    "# dset = params_sim.create_dataset(\"params\", np.shape(params_evolved_sim), data=params_evolved_sim)\n",
    "# params_sim.close()\n",
    "\n",
    "# Cargar estados\n",
    "\n",
    "params_sim = h5py.File('params_2qubits.hdf5', 'r')\n",
    "params_evolved_sim = params_sim[\"params\"][:]"
   ]
  },
  {
   "cell_type": "code",
   "execution_count": 7,
   "metadata": {
    "ExecuteTime": {
     "end_time": "2022-02-25T01:00:23.362196Z",
     "start_time": "2022-02-25T01:00:23.239555Z"
    }
   },
   "outputs": [
    {
     "data": {
      "text/plain": [
       "Text(0.5, 1.0, 'Circuit')"
      ]
     },
     "execution_count": 7,
     "metadata": {},
     "output_type": "execute_result"
    },
    {
     "data": {
      "image/png": "[encoded data removed]",
      "text/plain": [
       "<Figure size 432x288 with 1 Axes>"
      ]
     },
     "metadata": {
      "needs_background": "light"
     },
     "output_type": "display_data"
    }
   ],
   "source": [
    "# Plot parameter evolution\n",
    "plt.plot(dt*np.arange(Nt), params_evolved_sim, label = [f\"param {i}\" for i in range(params_evolved_sim.shape[1])])\n",
    "plt.xlabel(\"time\")\n",
    "plt.legend(loc=\"best\")\n",
    "plt.title(\"Circuit\")"
   ]
  },
  {
   "cell_type": "code",
   "execution_count": 8,
   "metadata": {
    "ExecuteTime": {
     "end_time": "2022-02-25T01:00:23.439646Z",
     "start_time": "2022-02-25T01:00:23.378431Z"
    }
   },
   "outputs": [],
   "source": [
    "from varqus.states import state_from_parameters\n",
    "from varqus.ode import define_schrodinger_ode\n",
    "\n",
    "initial_state_ising = state_from_parameters(params_init, ops, fs, state)\n",
    "\n",
    "schrodinger = define_schrodinger_ode(opsH, hs)\n",
    "analytic_evolution = euler(schrodinger, initial_state_ising, dt, Nt)"
   ]
  },
  {
   "cell_type": "code",
   "execution_count": 9,
   "metadata": {
    "ExecuteTime": {
     "end_time": "2022-02-25T01:00:23.780828Z",
     "start_time": "2022-02-25T01:00:23.440554Z"
    }
   },
   "outputs": [],
   "source": [
    "# Recover the states from its simulated parameters\n",
    "\n",
    "\n",
    "state_evolved_simulation = [state_from_parameters(params_evolved_sim[t], ops, fs, state) for t in range(Nt)]\n",
    "\n",
    "#params_evolved_sim[0]"
   ]
  },
  {
   "cell_type": "code",
   "execution_count": 10,
   "metadata": {
    "ExecuteTime": {
     "end_time": "2022-02-25T01:00:24.151111Z",
     "start_time": "2022-02-25T01:00:23.782681Z"
    }
   },
   "outputs": [
    {
     "data": {
      "text/plain": [
       "Text(0.5, 1.0, 'Infidelity')"
      ]
     },
     "execution_count": 10,
     "metadata": {},
     "output_type": "execute_result"
    },
    {
     "data": {
      "image/png": "[encoded data removed]",
      "text/plain": [
       "<Figure size 432x288 with 1 Axes>"
      ]
     },
     "metadata": {
      "needs_background": "light"
     },
     "output_type": "display_data"
    }
   ],
   "source": [
    "# Calculate infidelity from the analytic vqe with schrodinger equation solution using matrix exponentiation\n",
    "\n",
    "#import importlib\n",
    "#importlib.reload(varqus)\n",
    "\n",
    "from varqus.states import state_infidelity\n",
    "\n",
    "infidelity = [state_infidelity(analytic_evolution[t], state_evolved_simulation[t]) for t in range(Nt)]\n",
    "\n",
    "plt.semilogy(dt*np.arange(Nt), infidelity)\n",
    "plt.xlabel(\"time\")\n",
    "plt.title(\"Infidelity\")"
   ]
  },
  {
   "cell_type": "code",
   "execution_count": null,
   "metadata": {},
   "outputs": [],
   "source": []
  },
  {
   "cell_type": "code",
   "execution_count": null,
   "metadata": {},
   "outputs": [],
   "source": []
  }
 ],
 "metadata": {
  "hide_input": false,
  "kernelspec": {
   "display_name": "Python 3",
   "language": "python",
   "name": "python3"
  },
  "language_info": {
   "codemirror_mode": {
    "name": "ipython",
    "version": 3
   },
   "file_extension": ".py",
   "mimetype": "text/x-python",
   "name": "python",
   "nbconvert_exporter": "python",
   "pygments_lexer": "ipython3",
   "version": "3.8.10"
  }
 },
 "nbformat": 4,
 "nbformat_minor": 4
}
