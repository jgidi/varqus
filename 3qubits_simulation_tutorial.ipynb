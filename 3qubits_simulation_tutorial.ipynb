{
 "cells": [
  {
   "cell_type": "code",
   "execution_count": 1,
   "metadata": {
    "ExecuteTime": {
     "end_time": "2022-02-25T19:33:35.632410Z",
     "start_time": "2022-02-25T19:33:33.806554Z"
    }
   },
   "outputs": [],
   "source": [
    "import numpy as np\n",
    "import matplotlib.pyplot as plt\n",
    "import h5py\n",
    "\n",
    "from varqus.ode import define_vqs_ode, define_schrodinger_ode\n",
    "from varqus.integrators import euler\n",
    "from varqus.states import state_from_parameters, state_infidelity"
   ]
  },
  {
   "cell_type": "markdown",
   "metadata": {},
   "source": [
    "# Variational Quantum Simulator for the 3 qubits quantum Ising model"
   ]
  },
  {
   "cell_type": "markdown",
   "metadata": {},
   "source": [
    "For the 3 spins case $n_{s}=3$, and taking the constants $J=B=\\frac{1}{2}$, the Hamiltonian becomes:\n",
    "\n",
    "$$\n",
    "H = H_{z} + H_{x} = -\\frac{1}{2} \\left( ZZI + ZIZ + IZZ\\right) -\\frac{1}{2} \\left(XII + IXI + IIX \\right)\n",
    "$$\n",
    "\n",
    "while the initial state $|\\Phi(0)\\rangle$ is given by\n",
    "\n",
    "$$\n",
    "|\\Phi(0)\\rangle = CP_{12}(\\pi) CP_{23}(\\pi) CP_{31}(\\pi) H_{1} H_{2} H_{3} |000\\rangle\n",
    "$$\n",
    "\n",
    "where $H_i$ is the Hadamard gates acting on the $i$ qubit and $CP_{ij}(\\pi)$ is gate that induces a $\\pi$-phase on the state of the target qubit $j$, depending on the control state $i$.\n"
   ]
  },
  {
   "cell_type": "markdown",
   "metadata": {},
   "source": [
    "Following the sames steps as in the 2 qubits simulation, we get the following results"
   ]
  },
  {
   "cell_type": "code",
   "execution_count": 2,
   "metadata": {
    "ExecuteTime": {
     "end_time": "2022-02-25T19:33:35.647369Z",
     "start_time": "2022-02-25T19:33:35.634405Z"
    }
   },
   "outputs": [],
   "source": [
    "J = 1/2\n",
    "B = 1/2\n",
    "\n",
    "# Hamiltonian parameters and operators\n",
    "\n",
    "hs = [-J, -J, -J, -B, -B, -B]\n",
    "opsH = [\"ZZI\", \"IZZ\", \"ZIZ\", \"XII\", \"IXI\", \"IIX\"]\n",
    "\n",
    "# Rotations parameters and operators\n",
    "\n",
    "fs = [[-1j*J, -1j*J, -1j*J], [-1j*B, -1j*B, -1j*B]]\n",
    "ops = [[\"ZZI\", \"IZZ\", \"ZIZ\"], [\"XII\", \"IXI\", \"IIX\"]]\n",
    "\n",
    "# Initial state\n",
    "\n",
    "ini_state = np.array([0.35355339,  0.35355339, 0.35355339, -0.35355339,\n",
    "                   0.35355339, -0.35355339, -0.35355339, -0.35355339]) + 1j*0\n",
    "\n",
    "# Normalize state\n",
    "\n",
    "ini_state = ini_state/np.linalg.norm(ini_state)"
   ]
  },
  {
   "cell_type": "code",
   "execution_count": 3,
   "metadata": {
    "ExecuteTime": {
     "end_time": "2022-02-25T19:33:35.662880Z",
     "start_time": "2022-02-25T19:33:35.650364Z"
    }
   },
   "outputs": [],
   "source": [
    "# Time discretization and initial parameters for the trial state\n",
    "\n",
    "params_init = np.array([1.0, 1.0])\n",
    "dt = 0.01\n",
    "Nt = 100"
   ]
  },
  {
   "cell_type": "markdown",
   "metadata": {},
   "source": [
    "Now, we execute our algorithm, first defining the ordinary diferential equation using the variational quantum simulator, and then solving it using a numerical Euler's method, to obtain the parameters in a posterior time $\\left\\{\\lambda_{k}\\left(t_{n}\\right)\\right\\}$."
   ]
  },
  {
   "cell_type": "code",
   "execution_count": 4,
   "metadata": {
    "ExecuteTime": {
     "end_time": "2022-02-25T19:40:11.123950Z",
     "start_time": "2022-02-25T19:33:35.664881Z"
    }
   },
   "outputs": [],
   "source": [
    "# Define the ode as a function of the parameters\n",
    "\n",
    "ode = define_vqs_ode(ops, opsH, fs, hs, ini_state, shots=2**13)\n",
    "\n",
    "# Integrate in time using Euler's method\n",
    "lambda_k_t = euler(ode, params_init, dt, Nt)\n",
    "\n",
    "\n",
    "# If you don't want to run the full algorithm, an example is attached on the file \"params_2qubits.hdf5\".\n",
    "# Comment the two previous line and uncomment the last two lines\n",
    "\n",
    "# Save simulated parameters\n",
    "\n",
    "# params_sim = h5py.File(\"data/params_3qubits.hdf5\", \"w\")\n",
    "# dset = params_sim.create_dataset(\"params\", np.shape(lambda_k_t), data=lambda_k_t)\n",
    "# params_sim.close()\n",
    "\n",
    "# Load simulated parameters\n",
    "\n",
    "# params_sim = h5py.File('data/params_3qubits.hdf5', 'r')\n",
    "# lambda_k_t = params_sim[\"params\"][:]"
   ]
  },
  {
   "cell_type": "code",
   "execution_count": 5,
   "metadata": {
    "ExecuteTime": {
     "end_time": "2022-02-25T19:40:11.297488Z",
     "start_time": "2022-02-25T19:40:11.124947Z"
    }
   },
   "outputs": [
    {
     "data": {
      "text/plain": [
       "Text(0.5, 1.0, 'Parameter Evolution using the Variational Quantum Simulator')"
      ]
     },
     "execution_count": 5,
     "metadata": {},
     "output_type": "execute_result"
    },
    {
     "data": {
      "image/png": "[encoded data removed]",
      "text/plain": [
       "<Figure size 432x288 with 1 Axes>"
      ]
     },
     "metadata": {
      "needs_background": "light"
     },
     "output_type": "display_data"
    }
   ],
   "source": [
    "# Plot parameter evolution\n",
    "\n",
    "plt.plot(dt*np.arange(Nt), lambda_k_t, label = [f\"param {i}\" for i in range(lambda_k_t.shape[1])])\n",
    "plt.xlabel(\"Time\")\n",
    "plt.ylabel(\"Parameters\")\n",
    "plt.legend(loc=\"best\")\n",
    "plt.grid()\n",
    "plt.title(\"Parameter Evolution using the Variational Quantum Simulator\")"
   ]
  },
  {
   "cell_type": "code",
   "execution_count": 6,
   "metadata": {
    "ExecuteTime": {
     "end_time": "2022-02-25T19:40:11.312763Z",
     "start_time": "2022-02-25T19:40:11.298483Z"
    }
   },
   "outputs": [],
   "source": [
    "initial_state_s = state_from_parameters(params_init, ops, fs, ini_state)"
   ]
  },
  {
   "cell_type": "code",
   "execution_count": 7,
   "metadata": {
    "ExecuteTime": {
     "end_time": "2022-02-25T19:40:11.358641Z",
     "start_time": "2022-02-25T19:40:11.313762Z"
    }
   },
   "outputs": [],
   "source": [
    "# Solve the schrodinger equation numerically\n",
    "\n",
    "schrodinger = define_schrodinger_ode(opsH, hs)\n",
    "numeric_evolution = euler(schrodinger, initial_state_s, dt, Nt)"
   ]
  },
  {
   "cell_type": "code",
   "execution_count": 8,
   "metadata": {
    "ExecuteTime": {
     "end_time": "2022-02-25T19:40:11.795014Z",
     "start_time": "2022-02-25T19:40:11.359638Z"
    }
   },
   "outputs": [
    {
     "data": {
      "text/plain": [
       "Text(0.5, 1.0, 'Infidelity between the obtained state from the VQS and the Schrödinger evolution')"
      ]
     },
     "execution_count": 8,
     "metadata": {},
     "output_type": "execute_result"
    },
    {
     "data": {
      "image/png": "[encoded data removed]",
      "text/plain": [
       "<Figure size 432x288 with 1 Axes>"
      ]
     },
     "metadata": {
      "needs_background": "light"
     },
     "output_type": "display_data"
    }
   ],
   "source": [
    "# From params to the state psi(lambda)\n",
    "\n",
    "psi_lambda_t = [state_from_parameters(lambda_k_t[t], ops, fs, ini_state) for t in range(Nt)]\n",
    "\n",
    "# Calculate infidelity from the circuit vqs with the schrodinger equation solution using matrix exponentiation\n",
    "\n",
    "inf_array = [state_infidelity(numeric_evolution[t], psi_lambda_t[t]) for t in range(Nt)]\n",
    "\n",
    "plt.plot(dt*np.arange(Nt), inf_array)\n",
    "plt.xlabel(\"Time\")\n",
    "plt.ylabel(\"Infidelity\")\n",
    "plt.yscale(\"log\")\n",
    "plt.grid()\n",
    "plt.title(\"Infidelity between the obtained state from the VQS and the Schrödinger evolution\")"
   ]
  },
  {
   "cell_type": "code",
   "execution_count": null,
   "metadata": {},
   "outputs": [],
   "source": []
  }
 ],
 "metadata": {
  "hide_input": false,
  "kernelspec": {
   "display_name": "Python 3 (ipykernel)",
   "language": "python",
   "name": "python3"
  },
  "language_info": {
   "codemirror_mode": {
    "name": "ipython",
    "version": 3
   },
   "file_extension": ".py",
   "mimetype": "text/x-python",
   "name": "python",
   "nbconvert_exporter": "python",
   "pygments_lexer": "ipython3",
   "version": "3.9.7"
  }
 },
 "nbformat": 4,
 "nbformat_minor": 4
}
