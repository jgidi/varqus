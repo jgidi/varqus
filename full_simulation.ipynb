{
 "cells": [
  {
   "cell_type": "code",
   "execution_count": 1,
   "metadata": {},
   "outputs": [],
   "source": [
    "import numpy as np\n",
    "import matplotlib.pyplot as plt\n",
    "from core.ode import define_vqs_ode, define_schrodinger_ode\n",
    "from core.integrators import euler, rk4\n",
    "from core.variational_simulation import trial_state_ising\n",
    "from core.utils import infidelity"
   ]
  },
  {
   "cell_type": "markdown",
   "metadata": {},
   "source": [
    "# 2 qubits"
   ]
  },
  {
   "cell_type": "code",
   "execution_count": 2,
   "metadata": {},
   "outputs": [],
   "source": [
    "J = 1/2\n",
    "B = 1/2\n",
    "fs = [[-1j*J], [-1j*B, -1j*B]]\n",
    "params_init = np.array([0.05, 0.05])\n",
    "ops = [[\"ZZ\"], [\"XI\", \"IX\"]]\n",
    "\n",
    "hs = [-2.0*J, -B, -B] # Hamiltonian non-dependent on time\n",
    "# hs = lambda t: [-2*J*np.cos(t), -B*np.cos(t), -B*np.sin(t)] # Hamiltonian parameters dependent on time # FAKE DATA FTW\n",
    "\n",
    "opsH = [\"ZZ\", \"XI\", \"IX\"]\n",
    "\n",
    "state = np.ones(4, dtype=complex)/2\n",
    "\n",
    "# Time discretization\n",
    "dt = 0.05\n",
    "Nt = 10"
   ]
  },
  {
   "cell_type": "code",
   "execution_count": 3,
   "metadata": {},
   "outputs": [],
   "source": [
    "ode = define_vqs_ode(ops, opsH, fs, hs, state, analytic=True)    # Define the diff. equation RHS as a function of the parameters\n",
    "\n",
    "params_evolved = euler(ode, params_init, dt, Nt)              # Integrate in time!\n",
    "# params_evolved = rk4(ode, params_init, dt, Nt)                # Integrate in time!"
   ]
  },
  {
   "cell_type": "code",
   "execution_count": 4,
   "metadata": {},
   "outputs": [
    {
     "data": {
      "text/plain": [
       "Text(0.5, 1.0, 'Analytic')"
      ]
     },
     "execution_count": 4,
     "metadata": {},
     "output_type": "execute_result"
    },
    {
     "data": {
      "image/png": "[encoded data removed]",
      "text/plain": [
       "<Figure size 432x288 with 1 Axes>"
      ]
     },
     "metadata": {
      "needs_background": "light"
     },
     "output_type": "display_data"
    }
   ],
   "source": [
    "# Plot parameter evolution\n",
    "plt.plot(dt*np.arange(Nt), params_evolved, label = [f\"param {i}\" for i in range(params_evolved.shape[1])])\n",
    "plt.xlabel(\"time\")\n",
    "plt.legend(loc=\"best\")\n",
    "plt.title(\"Analytic\")"
   ]
  },
  {
   "cell_type": "code",
   "execution_count": 4,
   "metadata": {},
   "outputs": [],
   "source": [
    "# Through the circuit\n",
    "\n",
    "ode = define_vqs_ode(ops, opsH, fs, hs, state)    # Define the diff. equation RHS as a function of the parameters\n",
    "\n",
    "params_evolved = euler(ode, params_init, dt, Nt)  # Integrate in time!\n",
    "# params_evolved = rk4(ode, params_init, dt, Nt)    # Integrate in time!"
   ]
  },
  {
   "cell_type": "code",
   "execution_count": 6,
   "metadata": {},
   "outputs": [
    {
     "data": {
      "text/plain": [
       "Text(0.5, 1.0, 'Circuit')"
      ]
     },
     "execution_count": 6,
     "metadata": {},
     "output_type": "execute_result"
    },
    {
     "data": {
      "image/png": "[encoded data removed]",
      "text/plain": [
       "<Figure size 432x288 with 1 Axes>"
      ]
     },
     "metadata": {
      "needs_background": "light"
     },
     "output_type": "display_data"
    }
   ],
   "source": [
    "# Plot parameter evolution\n",
    "plt.plot(dt*np.arange(Nt), params_evolved, label = [f\"param {i}\" for i in range(params_evolved.shape[1])])\n",
    "plt.xlabel(\"time\")\n",
    "plt.legend(loc=\"best\")\n",
    "plt.title(\"Circuit\")"
   ]
  },
  {
   "cell_type": "code",
   "execution_count": 5,
   "metadata": {},
   "outputs": [
    {
     "data": {
      "text/plain": [
       "[0.00249791736098659,\n",
       " 0.01908459643452043,\n",
       " -0.009337264312160087,\n",
       " -0.008163532267217333,\n",
       " -0.00490012048997035,\n",
       " 0.0026822053766278886,\n",
       " 0.016859939488404363,\n",
       " 0.03822292613635592,\n",
       " 0.06821937754715146,\n",
       " 0.1067960645785524]"
      ]
     },
     "execution_count": 5,
     "metadata": {},
     "output_type": "execute_result"
    }
   ],
   "source": [
    "# Solve the schrodinger equation directly\n",
    "schrodinger = define_schrodinger_ode(opsH, hs)\n",
    "\n",
    "state_evolved = euler(schrodinger, state, dt, Nt)\n",
    "trial_state= trial_state_ising(params_evolved,state,ops,Nt)\n",
    "infidelity(state_evolved, trial_state)"
   ]
  },
  {
   "cell_type": "markdown",
   "metadata": {},
   "source": [
    "# 3 qubits"
   ]
  },
  {
   "cell_type": "code",
   "execution_count": null,
   "metadata": {},
   "outputs": [],
   "source": [
    "n_qubits = 3\n",
    "J = 1/2\n",
    "B = 1/2\n",
    "fs = [[-1j*J, -1j*J, -1j*J], [-1j*B, -1j*B, -1j*B]]\n",
    "params_init = np.array([0.1, 0.1])\n",
    "ops = [[\"ZZI\", \"IZZ\", \"ZIZ\"], [\"XII\", \"IXI\", \"IIX\"]]\n",
    "hs = [-J, -J, -J, -B, -B, -B]\n",
    "opsH = [\"ZZI\", \"IZZ\", \"ZIZ\", \"XII\", \"IXI\", \"IIX\"]\n",
    "vector = np.array([0.35355339,  0.35355339, 0.35355339, -0.35355339,\n",
    "                   0.35355339, -0.35355339, -0.35355339, -0.35355339]) + 1j*0\n",
    "vector = vector/np.linalg.norm(vector)\n",
    "# Time discretization\n",
    "dt = 0.01\n",
    "Nt = 10"
   ]
  },
  {
   "cell_type": "code",
   "execution_count": null,
   "metadata": {},
   "outputs": [],
   "source": [
    "ode = define_vqs_ode(ops, opsH, fs, hs, analytic=True, state = vector)    # Define the diff. equation RHS as a function of the parameters\n",
    "params_evolved = euler(ode, params_init, dt, Nt)              # Integrate in time!\n",
    "# Plot parameter evolution\n",
    "plt.plot(dt*np.arange(Nt), params_evolved, label = [f\"param {i}\" for i in range(params_evolved.shape[1])])\n",
    "plt.xlabel(\"time\")\n",
    "plt.legend(loc=\"best\")\n",
    "plt.title(\"Analytic\")"
   ]
  },
  {
   "cell_type": "code",
   "execution_count": null,
   "metadata": {},
   "outputs": [],
   "source": [
    "ode = define_vqs_ode(ops, opsH, fs, hs, state = vector)    # Define the diff. equation RHS as a function of the parameters\n",
    "params_evolved = euler(ode, params_init, dt, Nt)\n",
    "# Plot parameter evolution\n",
    "plt.plot(dt*np.arange(Nt), params_evolved, label = [f\"param {i}\" for i in range(params_evolved.shape[1])])\n",
    "plt.xlabel(\"time\")\n",
    "plt.legend(loc=\"best\")\n",
    "plt.title(\"Circuit\")"
   ]
  },
  {
   "cell_type": "code",
   "execution_count": null,
   "metadata": {},
   "outputs": [],
   "source": [
    "# Solve the schrodinger equation directly\n",
    "schrodinger = define_schrodinger_ode(opsH, hs)\n",
    "\n",
    "state_evolved = euler(schrodinger, vector, dt, Nt)\n",
    "trial= trial_state_ising(params_evolved,vector,ops, Nt)\n",
    "infidelity(state_evolved, trial)"
   ]
  },
  {
   "cell_type": "code",
   "execution_count": null,
   "metadata": {},
   "outputs": [],
   "source": [
    "# state_evolved = (1)\n",
    "trial= trial_state_ising(params_evolved,vector,ops, Nt)\n",
    "infidelity(state_evolved[1:Nt,:], trial[0:Nt-1,:])"
   ]
  }
 ],
 "metadata": {
  "kernelspec": {
   "display_name": "Python 3 (ipykernel)",
   "language": "python",
   "name": "python3"
  },
  "language_info": {
   "codemirror_mode": {
    "name": "ipython",
    "version": 3
   },
   "file_extension": ".py",
   "mimetype": "text/x-python",
   "name": "python",
   "nbconvert_exporter": "python",
   "pygments_lexer": "ipython3",
   "version": "3.8.12"
  }
 },
 "nbformat": 4,
 "nbformat_minor": 4
}
